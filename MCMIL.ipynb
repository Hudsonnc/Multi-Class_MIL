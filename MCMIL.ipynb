{
 "cells": [
  {
   "cell_type": "code",
   "execution_count": 1,
   "metadata": {
    "collapsed": true
   },
   "outputs": [],
   "source": [
    "import numpy as np\n",
    "import scipy.io as sio\n",
    "from sklearn.model_selection import train_test_split\n",
    "\n",
    "import matplotlib.pyplot as plt\n",
    "%matplotlib inline\n",
    "\n",
    "data_file = 'data/preprocessed.mat'\n",
    "\n",
    "EPS = 1e-8"
   ]
  },
  {
   "cell_type": "code",
   "execution_count": 2,
   "metadata": {
    "collapsed": true
   },
   "outputs": [],
   "source": [
    "data = sio.loadmat(data_file)"
   ]
  },
  {
   "cell_type": "code",
   "execution_count": 3,
   "metadata": {},
   "outputs": [
    {
     "data": {
      "text/plain": [
       "dict_keys(['__header__', '__version__', '__globals__', 'images', 'bags', 'labels', 'n_instance', 'instance_dim'])"
      ]
     },
     "execution_count": 3,
     "metadata": {},
     "output_type": "execute_result"
    }
   ],
   "source": [
    "data.keys()"
   ]
  },
  {
   "cell_type": "code",
   "execution_count": 4,
   "metadata": {
    "collapsed": true
   },
   "outputs": [],
   "source": [
    "X = data['bags']\n",
    "Y = data['labels']\n",
    "Y[Y == -1] = 0 #convert to 1,0 labelling"
   ]
  },
  {
   "cell_type": "code",
   "execution_count": 5,
   "metadata": {
    "collapsed": true
   },
   "outputs": [],
   "source": [
    "n_instance = data['n_instance']\n",
    "instance_dim = np.prod(data['instance_dim'])\n",
    "n_classes = Y.shape[1]"
   ]
  },
  {
   "cell_type": "markdown",
   "metadata": {},
   "source": [
    "# Train, validate, test split"
   ]
  },
  {
   "cell_type": "code",
   "execution_count": 6,
   "metadata": {
    "collapsed": true
   },
   "outputs": [],
   "source": [
    "test_prop = 1/3\n",
    "validate_prop = 1/6\n",
    "\n",
    "random_state = 42\n",
    "\n",
    "X_train, X_test, Y_train, Y_test = train_test_split(\n",
    "    X, Y,                            \n",
    "    test_size=test_prop,                             \n",
    "    random_state=random_state\n",
    ")\n",
    "\n",
    "X_train, X_validate, Y_train, Y_validate = train_test_split(\n",
    "    X_train, Y_train,                   \n",
    "    test_size=validate_prop/(1-test_prop), \n",
    "    random_state=random_state\n",
    ")"
   ]
  },
  {
   "cell_type": "code",
   "execution_count": 7,
   "metadata": {},
   "outputs": [
    {
     "name": "stdout",
     "output_type": "stream",
     "text": [
      "(999, 5)\n",
      "(334, 5)\n",
      "(667, 5)\n"
     ]
    }
   ],
   "source": [
    "print(Y_train.shape)\n",
    "print(Y_validate.shape)\n",
    "print(Y_test.shape)"
   ]
  },
  {
   "cell_type": "code",
   "execution_count": 8,
   "metadata": {},
   "outputs": [
    {
     "data": {
      "text/plain": [
       "(999, 20, 1200)"
      ]
     },
     "execution_count": 8,
     "metadata": {},
     "output_type": "execute_result"
    }
   ],
   "source": [
    "X_train.shape"
   ]
  },
  {
   "cell_type": "markdown",
   "metadata": {},
   "source": [
    "# Simple linear model"
   ]
  },
  {
   "cell_type": "markdown",
   "metadata": {},
   "source": [
    "Linear model:\n",
    "$$h_{ijk} = W_k^T \\vec{x_{ij}}$$ \n",
    "\n",
    "Each instance can be at most one class:\n",
    "$$p_{ijk} = \\frac{e^{h_{ijk}}}{\\sum_{k' = 1}^K e^{h_{ijk'}}}$$\n",
    "\n",
    "Probability that at least one instance in bag $i$ is of class k:\n",
    "$$p_{i \\bullet k} = P(y_{i \\bullet k} = 1) = P(\\exists j \\in \\{1,\\ldots,J\\}; y_{ijk} = 1) = 1 - \\prod_{j = 1}^J (1-p_{ijk})$$\n",
    "\n",
    "Score cross entropy on each (assuming independence):\n",
    "$$\\mathcal{L}_{W_k} = -\\sum_{i=1}^I y_{i \\bullet k}log(p_{i \\bullet k}) + (1-y_{i \\bullet k})log(1 - p_{i \\bullet k})$$\n",
    "\n",
    "$$\\mathcal{L}_\\mathbf{W} = \\sum_{k=1}^K \\mathcal{L}_{W_k}$$"
   ]
  },
  {
   "cell_type": "markdown",
   "metadata": {},
   "source": [
    "Taking derivatives: \n",
    "$$\\frac{\\partial\\mathcal{L}_\\mathbf{W}}{\\partial W_{k'}} = \\sum_{k=1}^K \\frac{\\partial \\mathcal{L}_{W_k}}{\\partial W_{k'}}$$\n",
    "\n"
   ]
  },
  {
   "cell_type": "markdown",
   "metadata": {},
   "source": [
    "$$\\frac{\\partial \\mathcal{L}_{W_k}}{\\partial W_{k'}} = -\\sum_{i=1}^I \\frac{\\partial \\mathcal{L}_{W_k}}{\\partial p_{i \\bullet k}} \\frac{\\partial p_{i \\bullet k}}{\\partial W_{k'}} $$\n"
   ]
  },
  {
   "cell_type": "markdown",
   "metadata": {},
   "source": [
    "$$\\frac{\\partial \\mathcal{L}_{W_k}}{\\partial p_{i \\bullet k}} =  \\frac{p_{i \\bullet k} - y_{i \\bullet k}}{p_{i \\bullet k}(1-p_{i \\bullet k})} $$"
   ]
  },
  {
   "cell_type": "markdown",
   "metadata": {},
   "source": [
    "$$\\frac{\\partial p_{i \\bullet k}}{\\partial W_{k'}} = \\sum_{j = 1}^J \\frac{\\partial p_{ijk}}{\\partial W_{k'}} \\prod_{j' = 1, \\ j' \\neq j}^J (1-p_{ij'k})$$"
   ]
  },
  {
   "cell_type": "markdown",
   "metadata": {},
   "source": [
    "$$\\frac{\\partial p_{ijk}}{\\partial W_{k'}} = \\frac{\\partial p_{ijk}}{\\partial h_{ijk'}}\\frac{\\partial h_{ijk'}}{\\partial W_{k'}}$$"
   ]
  },
  {
   "cell_type": "markdown",
   "metadata": {},
   "source": [
    "$$\\frac{\\partial p_{ijk}}{\\partial h_{ijk'}} = \\begin{cases}\n",
    "    p_{ijk}(1-p_{ijk'}),& \\text{if } k' = k\\\\\n",
    "    -p_{ijk}p_{ijk'},              & \\text{if } k' \\neq k\n",
    "\\end{cases} = p_{ijk}(\\delta_{kk'} - p_{ijk'}) \\text{ where } \\delta_{kk'} = \\begin{cases}\n",
    "    1,& \\text{if } k' = k\\\\\n",
    "    0 ,              & \\text{if} k' \\neq k\n",
    "\\end{cases}$$"
   ]
  },
  {
   "cell_type": "markdown",
   "metadata": {},
   "source": [
    "$$\\frac{\\partial h_{ijk'}}{\\partial W_{k'}} = \\vec{x_{ij}}$$"
   ]
  },
  {
   "cell_type": "code",
   "execution_count": 124,
   "metadata": {
    "scrolled": false
   },
   "outputs": [],
   "source": [
    "def LW(x, y, w):\n",
    "    h_ijk = np.einsum('lk,ijl->ijk', w, x)\n",
    "    p_ijk = np.divide(np.exp(h_ijk), np.sum(np.exp(h_ijk), 2)[:,:,np.newaxis] + EPS)\n",
    "    p_i_k = 1 - np.prod(1-p_ijk, 1)\n",
    "    L = -np.sum(y*np.log(p_i_k + EPS) + (1-y)*np.log(1-p_i_k + EPS))\n",
    "\n",
    "\n",
    "    dh_ijkp_dW_kp = x\n",
    "\n",
    "    d_kkp = np.eye(w.shape[1])\n",
    "\n",
    "    dp_ijk_dh_ijkp = np.einsum(\n",
    "        'ijk,ijpk->ijkp',\n",
    "        p_ijk, \n",
    "        d_kkp[np.newaxis, np.newaxis,:] - p_ijk[:,:,:,np.newaxis]\n",
    "    )\n",
    "\n",
    "    dp_ijk_dW_kp = (dp_ijk_dh_ijkp[:,:,:,:,np.newaxis]*dh_ijkp_dW_kp[:,:,np.newaxis, np.newaxis,:])\n",
    "\n",
    "    dp_i_k_dW_kp = np.zeros(np.array(dp_ijk_dW_kp.shape)[[0,2,3,4]])\n",
    "    for j in range(p_ijk.shape[1]):\n",
    "        cp = np.copy(p_ijk)\n",
    "        cp[:,j,:] = 1\n",
    "        dp_i_k_dW_kp = dp_i_k_dW_kp + (dp_ijk_dW_kp[:,j,:,:] * np.prod(cp, 1)[:, :, np.newaxis, np.newaxis])\n",
    "\n",
    "    dL_W_k_dp_i_k = (p_i_k - y) / (p_i_k*(1 - p_i_k) + EPS)\n",
    "\n",
    "    dL_W_k_dW_kp = np.sum(dL_W_k_dp_i_k[:,:, np.newaxis, np.newaxis] * dp_i_k_dW_kp, 0)\n",
    "\n",
    "    dL = np.transpose(np.sum(dL_W_k_dW_kp, 0))\n",
    "\n",
    "    return(L, dL)"
   ]
  },
  {
   "cell_type": "code",
   "execution_count": 125,
   "metadata": {
    "collapsed": true
   },
   "outputs": [],
   "source": [
    "def train(x, y, w0, epochs = 100, mb_size = 50, lr = .01):\n",
    "    w = np.copy(w0)\n",
    "    n_batches = int(len(y)/float(mb_size))\n",
    "    losses = []\n",
    "    for epoch in range(epochs):\n",
    "        idxs = np.arange(len(y))\n",
    "        np.random.shuffle(idxs)\n",
    "        epochloss = 0\n",
    "        for batch in range(n_batches):\n",
    "            mb_idxs = idxs[batch*mb_size:(1+batch)*mb_size]\n",
    "            x_mb = x[mb_idxs]\n",
    "            y_mb = y[mb_idxs]\n",
    "            loss, grad = LW(x_mb, y_mb, w)\n",
    "            epochloss += loss/n_batches\n",
    "            \n",
    "            w = w - lr*grad\n",
    "        losses.append(epochloss)\n",
    "    plt.plot(losses)\n",
    "    return(w)"
   ]
  },
  {
   "cell_type": "code",
   "execution_count": 126,
   "metadata": {},
   "outputs": [
    {
     "data": {
      "image/png": "[encoded data removed]",
      "text/plain": [
       "<Figure size 432x288 with 1 Axes>"
      ]
     },
     "metadata": {},
     "output_type": "display_data"
    }
   ],
   "source": [
    "w0 = np.random.normal(0, .000002, (instance_dim, n_classes))\n",
    "w = train(X_train, Y_train, w0, epochs = 100, mb_size = 100, lr = .01)"
   ]
  },
  {
   "cell_type": "code",
   "execution_count": null,
   "metadata": {
    "collapsed": true
   },
   "outputs": [],
   "source": []
  }
 ],
 "metadata": {
  "kernelspec": {
   "display_name": "Python [conda env:cogs185]",
   "language": "python",
   "name": "conda-env-cogs185-py"
  },
  "language_info": {
   "codemirror_mode": {
    "name": "ipython",
    "version": 3
   },
   "file_extension": ".py",
   "mimetype": "text/x-python",
   "name": "python",
   "nbconvert_exporter": "python",
   "pygments_lexer": "ipython3",
   "version": "3.6.5"
  }
 },
 "nbformat": 4,
 "nbformat_minor": 2
}
