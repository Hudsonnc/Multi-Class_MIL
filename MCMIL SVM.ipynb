{
 "cells": [
  {
   "cell_type": "code",
   "execution_count": 12,
   "metadata": {
    "collapsed": true
   },
   "outputs": [],
   "source": [
    "import numpy as np\n",
    "import scipy.io as sio\n",
    "from sklearn.model_selection import train_test_split\n",
    "import tensorflow as tf\n",
    "from tensorflow.contrib.layers import xavier_initializer\n",
    "\n",
    "\n",
    "import matplotlib.pyplot as plt\n",
    "%matplotlib inline\n",
    "\n",
    "data_file = 'data/preprocessed.mat'\n",
    "\n",
    "EPS = 1e-8\n",
    "random_seed = 1234"
   ]
  },
  {
   "cell_type": "code",
   "execution_count": 13,
   "metadata": {
    "collapsed": true
   },
   "outputs": [],
   "source": [
    "data = sio.loadmat(data_file)"
   ]
  },
  {
   "cell_type": "code",
   "execution_count": 14,
   "metadata": {},
   "outputs": [
    {
     "data": {
      "text/plain": [
       "dict_keys(['__header__', '__version__', '__globals__', 'images', 'bags', 'labels', 'n_instance', 'instance_dim'])"
      ]
     },
     "execution_count": 14,
     "metadata": {},
     "output_type": "execute_result"
    }
   ],
   "source": [
    "data.keys()"
   ]
  },
  {
   "cell_type": "code",
   "execution_count": 15,
   "metadata": {
    "collapsed": true
   },
   "outputs": [],
   "source": [
    "X = data['bags']\n",
    "Y = data['labels']\n",
    "Y[Y != 1] = -1 #convert to 1,-1 labelling"
   ]
  },
  {
   "cell_type": "code",
   "execution_count": 16,
   "metadata": {
    "collapsed": true
   },
   "outputs": [],
   "source": [
    "n_instance = data['n_instance']\n",
    "instance_dim = np.prod(data['instance_dim'])\n",
    "n_classes = Y.shape[1]"
   ]
  },
  {
   "cell_type": "markdown",
   "metadata": {},
   "source": [
    "# Train, validate, test split"
   ]
  },
  {
   "cell_type": "code",
   "execution_count": 17,
   "metadata": {
    "collapsed": true
   },
   "outputs": [],
   "source": [
    "test_prop = 1/3\n",
    "validate_prop = 1/6\n",
    "\n",
    "random_state = 42\n",
    "\n",
    "X_train, X_test, Y_train, Y_test = train_test_split(\n",
    "    X, Y,                            \n",
    "    test_size=test_prop,                             \n",
    "    random_state=random_state\n",
    ")\n",
    "\n",
    "X_train, X_validate, Y_train, Y_validate = train_test_split(\n",
    "    X_train, Y_train,                   \n",
    "    test_size=validate_prop/(1-test_prop), \n",
    "    random_state=random_state\n",
    ")"
   ]
  },
  {
   "cell_type": "code",
   "execution_count": 18,
   "metadata": {},
   "outputs": [
    {
     "name": "stdout",
     "output_type": "stream",
     "text": [
      "(999, 5)\n",
      "(334, 5)\n",
      "(667, 5)\n"
     ]
    }
   ],
   "source": [
    "print(Y_train.shape)\n",
    "print(Y_validate.shape)\n",
    "print(Y_test.shape)"
   ]
  },
  {
   "cell_type": "code",
   "execution_count": 19,
   "metadata": {},
   "outputs": [
    {
     "data": {
      "text/plain": [
       "(999, 20, 1200)"
      ]
     },
     "execution_count": 19,
     "metadata": {},
     "output_type": "execute_result"
    }
   ],
   "source": [
    "X_train.shape"
   ]
  },
  {
   "cell_type": "code",
   "execution_count": 20,
   "metadata": {},
   "outputs": [
    {
     "data": {
      "text/plain": [
       "0.2472"
      ]
     },
     "execution_count": 20,
     "metadata": {},
     "output_type": "execute_result"
    }
   ],
   "source": [
    "np.mean(Y == 1)"
   ]
  },
  {
   "cell_type": "markdown",
   "metadata": {},
   "source": [
    "# SVM"
   ]
  },
  {
   "cell_type": "markdown",
   "metadata": {},
   "source": [
    "Linear model:\n",
    "$$h_{ijk} = <\\vec{x_{ij}}, \\vec{w_k}> + b_k$$ \n"
   ]
  },
  {
   "cell_type": "markdown",
   "metadata": {},
   "source": [
    "$$\\mathscr{L}(\\mathbf{w}_1,\\ldots,\\mathbf{w}_K) = \\frac{1}{2}\\sum_{k = 1}^K \\mathbf{w}_k^T\\mathbf{w}_k + \\lambda \\sum_{i} \\quad \\sum_{k} \\quad \\sum_{k'=1,k' \\neq k} max\\left(0, \\ 1-y_{i \\bullet k}\\max_j \\left(h_{ijk'} - h_{ijk}\\right)\\right) $$"
   ]
  },
  {
   "cell_type": "code",
   "execution_count": 21,
   "metadata": {
    "collapsed": true,
    "scrolled": false
   },
   "outputs": [],
   "source": [
    "class MCMIL(object):\n",
    "    def __init__(self, instance_dim, n_classes):\n",
    "        self.instance_dim = instance_dim\n",
    "        self.n_classes = n_classes\n",
    "        \n",
    "        #Weights\n",
    "        xavier_init = xavier_initializer(seed = random_seed)\n",
    "        W = tf.Variable(xavier_init(\n",
    "            [\n",
    "                instance_dim,\n",
    "                n_classes\n",
    "            ]\n",
    "        ), name = 'W')\n",
    "        self.W = W\n",
    "        \n",
    "        b = tf.Variable(np.zeros(\n",
    "            [\n",
    "                n_classes\n",
    "            ]\n",
    "        ).astype('float32'), name = 'b')\n",
    "        self.b = b\n",
    "        \n",
    "        self.params = [W, b]\n",
    "        \n",
    "        #Placeholders\n",
    "        X = tf.placeholder(tf.float32, shape = [None, None, instance_dim])\n",
    "        self.X = X\n",
    "        Y = tf.placeholder(tf.float32, shape = [None, n_classes])\n",
    "        self.Y = Y\n",
    "        lamb = tf.placeholder(tf.float32, shape = 1)\n",
    "        self.lamb = lamb\n",
    "        \n",
    "        #Loss\n",
    "        h_ijk = tf.einsum('ijl,lk->ijk', X, W) + b\n",
    "        self.h_ijk = h_ijk\n",
    "        h_kp_minus_k = (h_ijk[:,:,:,tf.newaxis] - h_ijk[:,:,tf.newaxis,:])\n",
    "        tosum = tf.maximum(0.0, 1 - Y[:,:,tf.newaxis]*tf.reduce_max(h_kp_minus_k, 1))\n",
    "        mask = 1-tf.diag(tf.ones([tosum.shape[-1]]))\n",
    "        clf_loss = tf.reduce_sum(mask[tf.newaxis,:,:] * tosum)\n",
    "        \n",
    "        L = .5*tf.reduce_mean(tf.einsum('ij,ij->j', W, W)) + lamb * clf_loss\n",
    "        self.Loss = L\n",
    "        \n",
    "    def train(self, x, y, lamb = 1, epochs = 100, mb_size = 50, lr = .01, print_every = 100,):\n",
    "        #Optimizer \n",
    "        solver = tf.train.AdagradOptimizer(learning_rate = lr).minimize(self.Loss, var_list=self.params)\n",
    "        \n",
    "        #Training\n",
    "        init = tf.global_variables_initializer()\n",
    "        sess = tf.Session()\n",
    "        self.sess = sess\n",
    "        with sess.as_default():\n",
    "            sess.run(init)\n",
    "            n_batches = int(len(y)/float(mb_size))\n",
    "            losses = []\n",
    "            for epoch in range(epochs):\n",
    "                if epoch % print_every == 0:\n",
    "                    print(epoch)\n",
    "                idxs = np.arange(len(y))\n",
    "                np.random.shuffle(idxs)\n",
    "                epochloss = 0\n",
    "                for batch in range(n_batches):\n",
    "                    mb_idxs = idxs[batch*mb_size:(1+batch)*mb_size]\n",
    "                    x_mb = x[mb_idxs]\n",
    "                    y_mb = y[mb_idxs]\n",
    "                    _, loss = sess.run([solver, self.Loss], feed_dict = {self.X:x_mb, self.Y:y_mb, self.lamb: [lamb]})\n",
    "                    epochloss += loss/n_batches\n",
    "                losses.append(epochloss)\n",
    "            plt.plot(losses)\n",
    "    \n",
    "    def predict_instance_proba(self, x):\n",
    "        return(self.sess.run([tf.sigmoid(self.h_ijk)], feed_dict = {self.X:x}))\n",
    "    \n",
    "    def predict_bag_proba(self, x):\n",
    "        return(self.sess.run([tf.sigmoid(tf.reduce_max(self.h_ijk, 1))], feed_dict = {self.X:x}))"
   ]
  },
  {
   "cell_type": "code",
   "execution_count": 22,
   "metadata": {
    "collapsed": true
   },
   "outputs": [],
   "source": [
    "def proba_to_label(p):\n",
    "    return((p > .5).astype(int)*2 - 1)"
   ]
  },
  {
   "cell_type": "code",
   "execution_count": 23,
   "metadata": {
    "collapsed": true
   },
   "outputs": [],
   "source": [
    "mcmil = MCMIL(X.shape[-1], Y.shape[-1])"
   ]
  },
  {
   "cell_type": "code",
   "execution_count": 24,
   "metadata": {
    "scrolled": false
   },
   "outputs": [
    {
     "name": "stdout",
     "output_type": "stream",
     "text": [
      "0\n"
     ]
    },
    {
     "data": {
      "image/png": "[encoded data removed]",
      "text/plain": [
       "<Figure size 432x288 with 1 Axes>"
      ]
     },
     "metadata": {},
     "output_type": "display_data"
    }
   ],
   "source": [
    "mcmil.train(X_train, Y_train, lamb = .1, epochs = 100, mb_size = 100, lr = .001, print_every = 100)"
   ]
  },
  {
   "cell_type": "code",
   "execution_count": 48,
   "metadata": {},
   "outputs": [],
   "source": [
    "Yhat = np.array([[1 if k in np.unique(row) else -1 for k in range(Y.shape[-1])] for row in np.argmax(mcmil.predict_instance_proba(X_train)[0], -1)])"
   ]
  },
  {
   "cell_type": "code",
   "execution_count": 50,
   "metadata": {},
   "outputs": [
    {
     "data": {
      "text/plain": [
       "0.37777777777777777"
      ]
     },
     "execution_count": 50,
     "metadata": {},
     "output_type": "execute_result"
    }
   ],
   "source": [
    "np.mean(Yhat == Y_train)"
   ]
  },
  {
   "cell_type": "code",
   "execution_count": 29,
   "metadata": {},
   "outputs": [
    {
     "data": {
      "text/plain": [
       "(999, 20, 1200)"
      ]
     },
     "execution_count": 29,
     "metadata": {},
     "output_type": "execute_result"
    }
   ],
   "source": [
    "X_train.shape"
   ]
  },
  {
   "cell_type": "code",
   "execution_count": 202,
   "metadata": {},
   "outputs": [
    {
     "name": "stdout",
     "output_type": "stream",
     "text": [
      "Training accuracy: 0.246\n"
     ]
    }
   ],
   "source": [
    "p_train = mcmil.predict_bag_proba(X_train)[0]\n",
    "Y_hat_train = proba_to_label(p_train)\n",
    "acc_train = np.mean(Y_hat_train == Y_train)\n",
    "print(\"Training accuracy: %.3f\" %acc_train)"
   ]
  },
  {
   "cell_type": "code",
   "execution_count": 203,
   "metadata": {},
   "outputs": [
    {
     "name": "stdout",
     "output_type": "stream",
     "text": [
      "Validation accuracy: 0.256\n"
     ]
    }
   ],
   "source": [
    "p_validate = mcmil.predict_bag_proba(X_validate)[0]\n",
    "Y_hat_validate = proba_to_label(p_validate)\n",
    "acc_validate = np.mean(Y_hat_validate == Y_validate)\n",
    "print(\"Validation accuracy: %.3f\" %acc_validate)"
   ]
  },
  {
   "cell_type": "code",
   "execution_count": 204,
   "metadata": {
    "scrolled": false
   },
   "outputs": [
    {
     "name": "stdout",
     "output_type": "stream",
     "text": [
      "0\n",
      "100\n",
      "200\n",
      "300\n",
      "400\n",
      "500\n",
      "600\n",
      "700\n",
      "800\n",
      "900\n"
     ]
    },
    {
     "data": {
      "image/png": "[encoded data removed]",
      "text/plain": [
       "<Figure size 432x288 with 1 Axes>"
      ]
     },
     "metadata": {},
     "output_type": "display_data"
    }
   ],
   "source": [
    "mcmil.train(X_train, Y_train, lamb = 1, epochs = 1000, mb_size = 100, lr = .001, print_every = 100)"
   ]
  },
  {
   "cell_type": "code",
   "execution_count": 205,
   "metadata": {},
   "outputs": [
    {
     "name": "stdout",
     "output_type": "stream",
     "text": [
      "Training accuracy: 0.246\n"
     ]
    }
   ],
   "source": [
    "p_train = mcmil.predict_bag_proba(X_train)[0]\n",
    "Y_hat_train = proba_to_label(p_train)\n",
    "acc_train = np.mean(Y_hat_train == Y_train)\n",
    "print(\"Training accuracy: %.3f\" %acc_train)"
   ]
  },
  {
   "cell_type": "code",
   "execution_count": 206,
   "metadata": {},
   "outputs": [
    {
     "name": "stdout",
     "output_type": "stream",
     "text": [
      "Validation accuracy: 0.256\n"
     ]
    }
   ],
   "source": [
    "p_validate = mcmil.predict_bag_proba(X_validate)[0]\n",
    "Y_hat_validate = proba_to_label(p_validate)\n",
    "acc_validate = np.mean(Y_hat_validate == Y_validate)\n",
    "print(\"Validation accuracy: %.3f\" %acc_validate)"
   ]
  },
  {
   "cell_type": "code",
   "execution_count": null,
   "metadata": {
    "scrolled": false
   },
   "outputs": [
    {
     "name": "stdout",
     "output_type": "stream",
     "text": [
      "0\n",
      "100\n",
      "200\n",
      "300\n",
      "400\n"
     ]
    }
   ],
   "source": [
    "mcmil.train(X_train, Y_train, lamb = 10, epochs = 1000, mb_size = 100, lr = .001, print_every = 100)"
   ]
  },
  {
   "cell_type": "code",
   "execution_count": null,
   "metadata": {
    "collapsed": true
   },
   "outputs": [],
   "source": [
    "p_train = mcmil.predict_bag_proba(X_train)[0]\n",
    "Y_hat_train = proba_to_label(p_train)\n",
    "acc_train = np.mean(Y_hat_train == Y_train)\n",
    "print(\"Training accuracy: %.3f\" %acc_train)"
   ]
  },
  {
   "cell_type": "code",
   "execution_count": null,
   "metadata": {
    "collapsed": true
   },
   "outputs": [],
   "source": [
    "p_validate = mcmil.predict_bag_proba(X_validate)[0]\n",
    "Y_hat_validate = proba_to_label(p_validate)\n",
    "acc_validate = np.mean(Y_hat_validate == Y_validate)\n",
    "print(\"Validation accuracy: %.3f\" %acc_validate)"
   ]
  },
  {
   "cell_type": "code",
   "execution_count": null,
   "metadata": {
    "collapsed": true,
    "scrolled": false
   },
   "outputs": [],
   "source": [
    "mcmil.train(X_train, Y_train, lamb = 100, epochs = 1000, mb_size = 100, lr = .001, print_every = 100)"
   ]
  },
  {
   "cell_type": "code",
   "execution_count": null,
   "metadata": {
    "collapsed": true
   },
   "outputs": [],
   "source": [
    "p_train = mcmil.predict_bag_proba(X_train)[0]\n",
    "Y_hat_train = proba_to_label(p_train)\n",
    "acc_train = np.mean(Y_hat_train == Y_train)\n",
    "print(\"Training accuracy: %.3f\" %acc_train)"
   ]
  },
  {
   "cell_type": "code",
   "execution_count": null,
   "metadata": {
    "collapsed": true
   },
   "outputs": [],
   "source": [
    "p_validate = mcmil.predict_bag_proba(X_validate)[0]\n",
    "Y_hat_validate = proba_to_label(p_validate)\n",
    "acc_validate = np.mean(Y_hat_validate == Y_validate)\n",
    "print(\"Validation accuracy: %.3f\" %acc_validate)"
   ]
  },
  {
   "cell_type": "code",
   "execution_count": null,
   "metadata": {
    "collapsed": true
   },
   "outputs": [],
   "source": []
  }
 ],
 "metadata": {
  "kernelspec": {
   "display_name": "Python [conda env:cogs185]",
   "language": "python",
   "name": "conda-env-cogs185-py"
  },
  "language_info": {
   "codemirror_mode": {
    "name": "ipython",
    "version": 3
   },
   "file_extension": ".py",
   "mimetype": "text/x-python",
   "name": "python",
   "nbconvert_exporter": "python",
   "pygments_lexer": "ipython3",
   "version": "3.6.5"
  }
 },
 "nbformat": 4,
 "nbformat_minor": 2
}
